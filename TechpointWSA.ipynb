{
 "cells": [
  {
   "cell_type": "code",
   "execution_count": 67,
   "id": "5b8ef9ce-2702-4ed0-ac09-3a59e7a584a2",
   "metadata": {
    "tags": []
   },
   "outputs": [],
   "source": [
    "import pandas as pd\n",
    "data = pd.read_csv(\"2025-VeloCityX-Expanded-Fan-Engagement-Data.csv\")"
   ]
  },
  {
   "cell_type": "code",
   "execution_count": 68,
   "id": "047e6b58-a8d3-4069-ad73-ce647d900c06",
   "metadata": {
    "tags": []
   },
   "outputs": [
    {
     "data": {
      "text/plain": [
       "Index(['User ID', 'Fan Challenges Completed', 'Predictive Accuracy (%)',\n",
       "       'Virtual Merchandise Purchases', 'Sponsorship Interactions (Ad Clicks)',\n",
       "       'Time on Live 360 (mins)', 'Real-Time Chat Activity (Messages Sent)'],\n",
       "      dtype='object')"
      ]
     },
     "execution_count": 68,
     "metadata": {},
     "output_type": "execute_result"
    }
   ],
   "source": [
    "data.columns"
   ]
  },
  {
   "cell_type": "code",
   "execution_count": 73,
   "id": "1dfcf921-9ac8-4d94-b158-6a94fd4c2a2e",
   "metadata": {
    "tags": []
   },
   "outputs": [],
   "source": [
    "from pandas import DataFrame\n",
    "framedData = DataFrame(data)"
   ]
  },
  {
   "cell_type": "code",
   "execution_count": 74,
   "id": "0046227a-d4a6-4287-8fb0-71c5b9f5dd13",
   "metadata": {
    "tags": []
   },
   "outputs": [
    {
     "data": {
      "text/html": [
       "<div>\n",
       "<style scoped>\n",
       "    .dataframe tbody tr th:only-of-type {\n",
       "        vertical-align: middle;\n",
       "    }\n",
       "\n",
       "    .dataframe tbody tr th {\n",
       "        vertical-align: top;\n",
       "    }\n",
       "\n",
       "    .dataframe thead th {\n",
       "        text-align: right;\n",
       "    }\n",
       "</style>\n",
       "<table border=\"1\" class=\"dataframe\">\n",
       "  <thead>\n",
       "    <tr style=\"text-align: right;\">\n",
       "      <th></th>\n",
       "      <th>User ID</th>\n",
       "      <th>Fan Challenges Completed</th>\n",
       "      <th>Predictive Accuracy (%)</th>\n",
       "      <th>Virtual Merchandise Purchases</th>\n",
       "      <th>Sponsorship Interactions (Ad Clicks)</th>\n",
       "      <th>Time on Live 360 (mins)</th>\n",
       "      <th>Real-Time Chat Activity (Messages Sent)</th>\n",
       "    </tr>\n",
       "  </thead>\n",
       "  <tbody>\n",
       "    <tr>\n",
       "      <th>0</th>\n",
       "      <td>U001</td>\n",
       "      <td>5</td>\n",
       "      <td>80</td>\n",
       "      <td>3</td>\n",
       "      <td>10</td>\n",
       "      <td>120</td>\n",
       "      <td>20</td>\n",
       "    </tr>\n",
       "    <tr>\n",
       "      <th>1</th>\n",
       "      <td>U002</td>\n",
       "      <td>8</td>\n",
       "      <td>60</td>\n",
       "      <td>1</td>\n",
       "      <td>8</td>\n",
       "      <td>100</td>\n",
       "      <td>35</td>\n",
       "    </tr>\n",
       "    <tr>\n",
       "      <th>2</th>\n",
       "      <td>U003</td>\n",
       "      <td>3</td>\n",
       "      <td>90</td>\n",
       "      <td>0</td>\n",
       "      <td>6</td>\n",
       "      <td>90</td>\n",
       "      <td>5</td>\n",
       "    </tr>\n",
       "    <tr>\n",
       "      <th>3</th>\n",
       "      <td>U004</td>\n",
       "      <td>7</td>\n",
       "      <td>70</td>\n",
       "      <td>2</td>\n",
       "      <td>15</td>\n",
       "      <td>140</td>\n",
       "      <td>40</td>\n",
       "    </tr>\n",
       "    <tr>\n",
       "      <th>4</th>\n",
       "      <td>U005</td>\n",
       "      <td>2</td>\n",
       "      <td>50</td>\n",
       "      <td>5</td>\n",
       "      <td>3</td>\n",
       "      <td>60</td>\n",
       "      <td>8</td>\n",
       "    </tr>\n",
       "    <tr>\n",
       "      <th>...</th>\n",
       "      <td>...</td>\n",
       "      <td>...</td>\n",
       "      <td>...</td>\n",
       "      <td>...</td>\n",
       "      <td>...</td>\n",
       "      <td>...</td>\n",
       "      <td>...</td>\n",
       "    </tr>\n",
       "    <tr>\n",
       "      <th>95</th>\n",
       "      <td>U096</td>\n",
       "      <td>8</td>\n",
       "      <td>86</td>\n",
       "      <td>6</td>\n",
       "      <td>14</td>\n",
       "      <td>98</td>\n",
       "      <td>22</td>\n",
       "    </tr>\n",
       "    <tr>\n",
       "      <th>96</th>\n",
       "      <td>U097</td>\n",
       "      <td>3</td>\n",
       "      <td>82</td>\n",
       "      <td>3</td>\n",
       "      <td>1</td>\n",
       "      <td>159</td>\n",
       "      <td>24</td>\n",
       "    </tr>\n",
       "    <tr>\n",
       "      <th>97</th>\n",
       "      <td>U098</td>\n",
       "      <td>1</td>\n",
       "      <td>91</td>\n",
       "      <td>1</td>\n",
       "      <td>9</td>\n",
       "      <td>92</td>\n",
       "      <td>34</td>\n",
       "    </tr>\n",
       "    <tr>\n",
       "      <th>98</th>\n",
       "      <td>U099</td>\n",
       "      <td>8</td>\n",
       "      <td>93</td>\n",
       "      <td>0</td>\n",
       "      <td>1</td>\n",
       "      <td>160</td>\n",
       "      <td>40</td>\n",
       "    </tr>\n",
       "    <tr>\n",
       "      <th>99</th>\n",
       "      <td>U100</td>\n",
       "      <td>3</td>\n",
       "      <td>73</td>\n",
       "      <td>3</td>\n",
       "      <td>16</td>\n",
       "      <td>82</td>\n",
       "      <td>29</td>\n",
       "    </tr>\n",
       "  </tbody>\n",
       "</table>\n",
       "<p>100 rows × 7 columns</p>\n",
       "</div>"
      ],
      "text/plain": [
       "   User ID  Fan Challenges Completed  Predictive Accuracy (%)  \\\n",
       "0     U001                         5                       80   \n",
       "1     U002                         8                       60   \n",
       "2     U003                         3                       90   \n",
       "3     U004                         7                       70   \n",
       "4     U005                         2                       50   \n",
       "..     ...                       ...                      ...   \n",
       "95    U096                         8                       86   \n",
       "96    U097                         3                       82   \n",
       "97    U098                         1                       91   \n",
       "98    U099                         8                       93   \n",
       "99    U100                         3                       73   \n",
       "\n",
       "    Virtual Merchandise Purchases  Sponsorship Interactions (Ad Clicks)  \\\n",
       "0                               3                                    10   \n",
       "1                               1                                     8   \n",
       "2                               0                                     6   \n",
       "3                               2                                    15   \n",
       "4                               5                                     3   \n",
       "..                            ...                                   ...   \n",
       "95                              6                                    14   \n",
       "96                              3                                     1   \n",
       "97                              1                                     9   \n",
       "98                              0                                     1   \n",
       "99                              3                                    16   \n",
       "\n",
       "    Time on Live 360 (mins)  Real-Time Chat Activity (Messages Sent)  \n",
       "0                       120                                       20  \n",
       "1                       100                                       35  \n",
       "2                        90                                        5  \n",
       "3                       140                                       40  \n",
       "4                        60                                        8  \n",
       "..                      ...                                      ...  \n",
       "95                       98                                       22  \n",
       "96                      159                                       24  \n",
       "97                       92                                       34  \n",
       "98                      160                                       40  \n",
       "99                       82                                       29  \n",
       "\n",
       "[100 rows x 7 columns]"
      ]
     },
     "execution_count": 74,
     "metadata": {},
     "output_type": "execute_result"
    }
   ],
   "source": [
    "framedData"
   ]
  },
  {
   "cell_type": "code",
   "execution_count": 75,
   "id": "7ffdcbf2-6e64-4d14-be2d-02c38f511efe",
   "metadata": {
    "tags": []
   },
   "outputs": [],
   "source": [
    "noDupes = framedData.drop_duplicates()"
   ]
  },
  {
   "cell_type": "code",
   "execution_count": 76,
   "id": "203d451e-9758-482a-8d87-ed3149797235",
   "metadata": {
    "tags": []
   },
   "outputs": [
    {
     "data": {
      "text/html": [
       "<div>\n",
       "<style scoped>\n",
       "    .dataframe tbody tr th:only-of-type {\n",
       "        vertical-align: middle;\n",
       "    }\n",
       "\n",
       "    .dataframe tbody tr th {\n",
       "        vertical-align: top;\n",
       "    }\n",
       "\n",
       "    .dataframe thead th {\n",
       "        text-align: right;\n",
       "    }\n",
       "</style>\n",
       "<table border=\"1\" class=\"dataframe\">\n",
       "  <thead>\n",
       "    <tr style=\"text-align: right;\">\n",
       "      <th></th>\n",
       "      <th>User ID</th>\n",
       "      <th>Fan Challenges Completed</th>\n",
       "      <th>Predictive Accuracy (%)</th>\n",
       "      <th>Virtual Merchandise Purchases</th>\n",
       "      <th>Sponsorship Interactions (Ad Clicks)</th>\n",
       "      <th>Time on Live 360 (mins)</th>\n",
       "      <th>Real-Time Chat Activity (Messages Sent)</th>\n",
       "    </tr>\n",
       "  </thead>\n",
       "  <tbody>\n",
       "    <tr>\n",
       "      <th>0</th>\n",
       "      <td>U001</td>\n",
       "      <td>5</td>\n",
       "      <td>80</td>\n",
       "      <td>3</td>\n",
       "      <td>10</td>\n",
       "      <td>120</td>\n",
       "      <td>20</td>\n",
       "    </tr>\n",
       "    <tr>\n",
       "      <th>1</th>\n",
       "      <td>U002</td>\n",
       "      <td>8</td>\n",
       "      <td>60</td>\n",
       "      <td>1</td>\n",
       "      <td>8</td>\n",
       "      <td>100</td>\n",
       "      <td>35</td>\n",
       "    </tr>\n",
       "    <tr>\n",
       "      <th>2</th>\n",
       "      <td>U003</td>\n",
       "      <td>3</td>\n",
       "      <td>90</td>\n",
       "      <td>0</td>\n",
       "      <td>6</td>\n",
       "      <td>90</td>\n",
       "      <td>5</td>\n",
       "    </tr>\n",
       "    <tr>\n",
       "      <th>3</th>\n",
       "      <td>U004</td>\n",
       "      <td>7</td>\n",
       "      <td>70</td>\n",
       "      <td>2</td>\n",
       "      <td>15</td>\n",
       "      <td>140</td>\n",
       "      <td>40</td>\n",
       "    </tr>\n",
       "    <tr>\n",
       "      <th>4</th>\n",
       "      <td>U005</td>\n",
       "      <td>2</td>\n",
       "      <td>50</td>\n",
       "      <td>5</td>\n",
       "      <td>3</td>\n",
       "      <td>60</td>\n",
       "      <td>8</td>\n",
       "    </tr>\n",
       "    <tr>\n",
       "      <th>...</th>\n",
       "      <td>...</td>\n",
       "      <td>...</td>\n",
       "      <td>...</td>\n",
       "      <td>...</td>\n",
       "      <td>...</td>\n",
       "      <td>...</td>\n",
       "      <td>...</td>\n",
       "    </tr>\n",
       "    <tr>\n",
       "      <th>95</th>\n",
       "      <td>U096</td>\n",
       "      <td>8</td>\n",
       "      <td>86</td>\n",
       "      <td>6</td>\n",
       "      <td>14</td>\n",
       "      <td>98</td>\n",
       "      <td>22</td>\n",
       "    </tr>\n",
       "    <tr>\n",
       "      <th>96</th>\n",
       "      <td>U097</td>\n",
       "      <td>3</td>\n",
       "      <td>82</td>\n",
       "      <td>3</td>\n",
       "      <td>1</td>\n",
       "      <td>159</td>\n",
       "      <td>24</td>\n",
       "    </tr>\n",
       "    <tr>\n",
       "      <th>97</th>\n",
       "      <td>U098</td>\n",
       "      <td>1</td>\n",
       "      <td>91</td>\n",
       "      <td>1</td>\n",
       "      <td>9</td>\n",
       "      <td>92</td>\n",
       "      <td>34</td>\n",
       "    </tr>\n",
       "    <tr>\n",
       "      <th>98</th>\n",
       "      <td>U099</td>\n",
       "      <td>8</td>\n",
       "      <td>93</td>\n",
       "      <td>0</td>\n",
       "      <td>1</td>\n",
       "      <td>160</td>\n",
       "      <td>40</td>\n",
       "    </tr>\n",
       "    <tr>\n",
       "      <th>99</th>\n",
       "      <td>U100</td>\n",
       "      <td>3</td>\n",
       "      <td>73</td>\n",
       "      <td>3</td>\n",
       "      <td>16</td>\n",
       "      <td>82</td>\n",
       "      <td>29</td>\n",
       "    </tr>\n",
       "  </tbody>\n",
       "</table>\n",
       "<p>100 rows × 7 columns</p>\n",
       "</div>"
      ],
      "text/plain": [
       "   User ID  Fan Challenges Completed  Predictive Accuracy (%)  \\\n",
       "0     U001                         5                       80   \n",
       "1     U002                         8                       60   \n",
       "2     U003                         3                       90   \n",
       "3     U004                         7                       70   \n",
       "4     U005                         2                       50   \n",
       "..     ...                       ...                      ...   \n",
       "95    U096                         8                       86   \n",
       "96    U097                         3                       82   \n",
       "97    U098                         1                       91   \n",
       "98    U099                         8                       93   \n",
       "99    U100                         3                       73   \n",
       "\n",
       "    Virtual Merchandise Purchases  Sponsorship Interactions (Ad Clicks)  \\\n",
       "0                               3                                    10   \n",
       "1                               1                                     8   \n",
       "2                               0                                     6   \n",
       "3                               2                                    15   \n",
       "4                               5                                     3   \n",
       "..                            ...                                   ...   \n",
       "95                              6                                    14   \n",
       "96                              3                                     1   \n",
       "97                              1                                     9   \n",
       "98                              0                                     1   \n",
       "99                              3                                    16   \n",
       "\n",
       "    Time on Live 360 (mins)  Real-Time Chat Activity (Messages Sent)  \n",
       "0                       120                                       20  \n",
       "1                       100                                       35  \n",
       "2                        90                                        5  \n",
       "3                       140                                       40  \n",
       "4                        60                                        8  \n",
       "..                      ...                                      ...  \n",
       "95                       98                                       22  \n",
       "96                      159                                       24  \n",
       "97                       92                                       34  \n",
       "98                      160                                       40  \n",
       "99                       82                                       29  \n",
       "\n",
       "[100 rows x 7 columns]"
      ]
     },
     "execution_count": 76,
     "metadata": {},
     "output_type": "execute_result"
    }
   ],
   "source": [
    "noDupes"
   ]
  },
  {
   "cell_type": "code",
   "execution_count": 77,
   "id": "9408542e-0750-49ab-bb1a-a7c4be9e08fa",
   "metadata": {
    "tags": []
   },
   "outputs": [
    {
     "name": "stdout",
     "output_type": "stream",
     "text": [
      "0\n"
     ]
    }
   ],
   "source": [
    "totalEmpty = noDupes.isnull().sum().sum()\n",
    "print(totalEmpty)"
   ]
  },
  {
   "cell_type": "code",
   "execution_count": 78,
   "id": "71b91098-34ab-4fe0-ba5e-98503eb7fde7",
   "metadata": {
    "tags": []
   },
   "outputs": [
    {
     "name": "stdout",
     "output_type": "stream",
     "text": [
      "<class 'str'>\n",
      "<class 'str'>\n",
      "<class 'str'>\n",
      "<class 'str'>\n",
      "<class 'str'>\n",
      "<class 'str'>\n",
      "<class 'str'>\n",
      "<class 'str'>\n",
      "<class 'str'>\n",
      "<class 'str'>\n",
      "<class 'str'>\n",
      "<class 'str'>\n",
      "<class 'str'>\n",
      "<class 'str'>\n",
      "<class 'str'>\n",
      "<class 'str'>\n",
      "<class 'str'>\n",
      "<class 'str'>\n",
      "<class 'str'>\n",
      "<class 'str'>\n",
      "<class 'str'>\n",
      "<class 'str'>\n",
      "<class 'str'>\n",
      "<class 'str'>\n",
      "<class 'str'>\n",
      "<class 'str'>\n",
      "<class 'str'>\n",
      "<class 'str'>\n",
      "<class 'str'>\n",
      "<class 'str'>\n",
      "<class 'str'>\n",
      "<class 'str'>\n",
      "<class 'str'>\n",
      "<class 'str'>\n",
      "<class 'str'>\n",
      "<class 'str'>\n",
      "<class 'str'>\n",
      "<class 'str'>\n",
      "<class 'str'>\n",
      "<class 'str'>\n",
      "<class 'str'>\n",
      "<class 'str'>\n",
      "<class 'str'>\n",
      "<class 'str'>\n",
      "<class 'str'>\n",
      "<class 'str'>\n",
      "<class 'str'>\n",
      "<class 'str'>\n",
      "<class 'str'>\n",
      "<class 'str'>\n",
      "<class 'str'>\n",
      "<class 'str'>\n",
      "<class 'str'>\n",
      "<class 'str'>\n",
      "<class 'str'>\n",
      "<class 'str'>\n",
      "<class 'str'>\n",
      "<class 'str'>\n",
      "<class 'str'>\n",
      "<class 'str'>\n",
      "<class 'str'>\n",
      "<class 'str'>\n",
      "<class 'str'>\n",
      "<class 'str'>\n",
      "<class 'str'>\n",
      "<class 'str'>\n",
      "<class 'str'>\n",
      "<class 'str'>\n",
      "<class 'str'>\n",
      "<class 'str'>\n",
      "<class 'str'>\n",
      "<class 'str'>\n",
      "<class 'str'>\n",
      "<class 'str'>\n",
      "<class 'str'>\n",
      "<class 'str'>\n",
      "<class 'str'>\n",
      "<class 'str'>\n",
      "<class 'str'>\n",
      "<class 'str'>\n",
      "<class 'str'>\n",
      "<class 'str'>\n",
      "<class 'str'>\n",
      "<class 'str'>\n",
      "<class 'str'>\n",
      "<class 'str'>\n",
      "<class 'str'>\n",
      "<class 'str'>\n",
      "<class 'str'>\n",
      "<class 'str'>\n",
      "<class 'str'>\n",
      "<class 'str'>\n",
      "<class 'str'>\n",
      "<class 'str'>\n",
      "<class 'str'>\n",
      "<class 'str'>\n",
      "<class 'str'>\n",
      "<class 'str'>\n",
      "<class 'str'>\n",
      "<class 'str'>\n",
      "<class 'numpy.int64'>\n",
      "<class 'numpy.int64'>\n",
      "<class 'numpy.int64'>\n",
      "<class 'numpy.int64'>\n",
      "<class 'numpy.int64'>\n",
      "<class 'numpy.int64'>\n",
      "<class 'numpy.int64'>\n",
      "<class 'numpy.int64'>\n",
      "<class 'numpy.int64'>\n",
      "<class 'numpy.int64'>\n",
      "<class 'numpy.int64'>\n",
      "<class 'numpy.int64'>\n",
      "<class 'numpy.int64'>\n",
      "<class 'numpy.int64'>\n",
      "<class 'numpy.int64'>\n",
      "<class 'numpy.int64'>\n",
      "<class 'numpy.int64'>\n",
      "<class 'numpy.int64'>\n",
      "<class 'numpy.int64'>\n",
      "<class 'numpy.int64'>\n",
      "<class 'numpy.int64'>\n",
      "<class 'numpy.int64'>\n",
      "<class 'numpy.int64'>\n",
      "<class 'numpy.int64'>\n",
      "<class 'numpy.int64'>\n",
      "<class 'numpy.int64'>\n",
      "<class 'numpy.int64'>\n",
      "<class 'numpy.int64'>\n",
      "<class 'numpy.int64'>\n",
      "<class 'numpy.int64'>\n",
      "<class 'numpy.int64'>\n",
      "<class 'numpy.int64'>\n",
      "<class 'numpy.int64'>\n",
      "<class 'numpy.int64'>\n",
      "<class 'numpy.int64'>\n",
      "<class 'numpy.int64'>\n",
      "<class 'numpy.int64'>\n",
      "<class 'numpy.int64'>\n",
      "<class 'numpy.int64'>\n",
      "<class 'numpy.int64'>\n",
      "<class 'numpy.int64'>\n",
      "<class 'numpy.int64'>\n",
      "<class 'numpy.int64'>\n",
      "<class 'numpy.int64'>\n",
      "<class 'numpy.int64'>\n",
      "<class 'numpy.int64'>\n",
      "<class 'numpy.int64'>\n",
      "<class 'numpy.int64'>\n",
      "<class 'numpy.int64'>\n",
      "<class 'numpy.int64'>\n",
      "<class 'numpy.int64'>\n",
      "<class 'numpy.int64'>\n",
      "<class 'numpy.int64'>\n",
      "<class 'numpy.int64'>\n",
      "<class 'numpy.int64'>\n",
      "<class 'numpy.int64'>\n",
      "<class 'numpy.int64'>\n",
      "<class 'numpy.int64'>\n",
      "<class 'numpy.int64'>\n",
      "<class 'numpy.int64'>\n",
      "<class 'numpy.int64'>\n",
      "<class 'numpy.int64'>\n",
      "<class 'numpy.int64'>\n",
      "<class 'numpy.int64'>\n",
      "<class 'numpy.int64'>\n",
      "<class 'numpy.int64'>\n",
      "<class 'numpy.int64'>\n",
      "<class 'numpy.int64'>\n",
      "<class 'numpy.int64'>\n",
      "<class 'numpy.int64'>\n",
      "<class 'numpy.int64'>\n",
      "<class 'numpy.int64'>\n",
      "<class 'numpy.int64'>\n",
      "<class 'numpy.int64'>\n",
      "<class 'numpy.int64'>\n",
      "<class 'numpy.int64'>\n",
      "<class 'numpy.int64'>\n",
      "<class 'numpy.int64'>\n",
      "<class 'numpy.int64'>\n",
      "<class 'numpy.int64'>\n",
      "<class 'numpy.int64'>\n",
      "<class 'numpy.int64'>\n",
      "<class 'numpy.int64'>\n",
      "<class 'numpy.int64'>\n",
      "<class 'numpy.int64'>\n",
      "<class 'numpy.int64'>\n",
      "<class 'numpy.int64'>\n",
      "<class 'numpy.int64'>\n",
      "<class 'numpy.int64'>\n",
      "<class 'numpy.int64'>\n",
      "<class 'numpy.int64'>\n",
      "<class 'numpy.int64'>\n",
      "<class 'numpy.int64'>\n",
      "<class 'numpy.int64'>\n",
      "<class 'numpy.int64'>\n",
      "<class 'numpy.int64'>\n",
      "<class 'numpy.int64'>\n",
      "<class 'numpy.int64'>\n",
      "<class 'numpy.int64'>\n",
      "<class 'numpy.int64'>\n",
      "<class 'numpy.int64'>\n",
      "<class 'numpy.int64'>\n",
      "<class 'numpy.int64'>\n",
      "<class 'numpy.int64'>\n",
      "<class 'numpy.int64'>\n",
      "<class 'numpy.int64'>\n",
      "<class 'numpy.int64'>\n",
      "<class 'numpy.int64'>\n",
      "<class 'numpy.int64'>\n",
      "<class 'numpy.int64'>\n",
      "<class 'numpy.int64'>\n",
      "<class 'numpy.int64'>\n",
      "<class 'numpy.int64'>\n",
      "<class 'numpy.int64'>\n",
      "<class 'numpy.int64'>\n",
      "<class 'numpy.int64'>\n",
      "<class 'numpy.int64'>\n",
      "<class 'numpy.int64'>\n",
      "<class 'numpy.int64'>\n",
      "<class 'numpy.int64'>\n",
      "<class 'numpy.int64'>\n",
      "<class 'numpy.int64'>\n",
      "<class 'numpy.int64'>\n",
      "<class 'numpy.int64'>\n",
      "<class 'numpy.int64'>\n",
      "<class 'numpy.int64'>\n",
      "<class 'numpy.int64'>\n",
      "<class 'numpy.int64'>\n",
      "<class 'numpy.int64'>\n",
      "<class 'numpy.int64'>\n",
      "<class 'numpy.int64'>\n",
      "<class 'numpy.int64'>\n",
      "<class 'numpy.int64'>\n",
      "<class 'numpy.int64'>\n",
      "<class 'numpy.int64'>\n",
      "<class 'numpy.int64'>\n",
      "<class 'numpy.int64'>\n",
      "<class 'numpy.int64'>\n",
      "<class 'numpy.int64'>\n",
      "<class 'numpy.int64'>\n",
      "<class 'numpy.int64'>\n",
      "<class 'numpy.int64'>\n",
      "<class 'numpy.int64'>\n",
      "<class 'numpy.int64'>\n",
      "<class 'numpy.int64'>\n",
      "<class 'numpy.int64'>\n",
      "<class 'numpy.int64'>\n",
      "<class 'numpy.int64'>\n",
      "<class 'numpy.int64'>\n",
      "<class 'numpy.int64'>\n",
      "<class 'numpy.int64'>\n",
      "<class 'numpy.int64'>\n",
      "<class 'numpy.int64'>\n",
      "<class 'numpy.int64'>\n",
      "<class 'numpy.int64'>\n",
      "<class 'numpy.int64'>\n",
      "<class 'numpy.int64'>\n",
      "<class 'numpy.int64'>\n",
      "<class 'numpy.int64'>\n",
      "<class 'numpy.int64'>\n",
      "<class 'numpy.int64'>\n",
      "<class 'numpy.int64'>\n",
      "<class 'numpy.int64'>\n",
      "<class 'numpy.int64'>\n",
      "<class 'numpy.int64'>\n",
      "<class 'numpy.int64'>\n",
      "<class 'numpy.int64'>\n",
      "<class 'numpy.int64'>\n",
      "<class 'numpy.int64'>\n",
      "<class 'numpy.int64'>\n",
      "<class 'numpy.int64'>\n",
      "<class 'numpy.int64'>\n",
      "<class 'numpy.int64'>\n",
      "<class 'numpy.int64'>\n",
      "<class 'numpy.int64'>\n",
      "<class 'numpy.int64'>\n",
      "<class 'numpy.int64'>\n",
      "<class 'numpy.int64'>\n",
      "<class 'numpy.int64'>\n",
      "<class 'numpy.int64'>\n",
      "<class 'numpy.int64'>\n",
      "<class 'numpy.int64'>\n",
      "<class 'numpy.int64'>\n",
      "<class 'numpy.int64'>\n",
      "<class 'numpy.int64'>\n",
      "<class 'numpy.int64'>\n",
      "<class 'numpy.int64'>\n",
      "<class 'numpy.int64'>\n",
      "<class 'numpy.int64'>\n",
      "<class 'numpy.int64'>\n",
      "<class 'numpy.int64'>\n",
      "<class 'numpy.int64'>\n",
      "<class 'numpy.int64'>\n",
      "<class 'numpy.int64'>\n",
      "<class 'numpy.int64'>\n",
      "<class 'numpy.int64'>\n",
      "<class 'numpy.int64'>\n",
      "<class 'numpy.int64'>\n",
      "<class 'numpy.int64'>\n",
      "<class 'numpy.int64'>\n",
      "<class 'numpy.int64'>\n",
      "<class 'numpy.int64'>\n",
      "<class 'numpy.int64'>\n",
      "<class 'numpy.int64'>\n",
      "<class 'numpy.int64'>\n",
      "<class 'numpy.int64'>\n",
      "<class 'numpy.int64'>\n",
      "<class 'numpy.int64'>\n",
      "<class 'numpy.int64'>\n",
      "<class 'numpy.int64'>\n",
      "<class 'numpy.int64'>\n",
      "<class 'numpy.int64'>\n",
      "<class 'numpy.int64'>\n",
      "<class 'numpy.int64'>\n",
      "<class 'numpy.int64'>\n",
      "<class 'numpy.int64'>\n",
      "<class 'numpy.int64'>\n",
      "<class 'numpy.int64'>\n",
      "<class 'numpy.int64'>\n",
      "<class 'numpy.int64'>\n",
      "<class 'numpy.int64'>\n",
      "<class 'numpy.int64'>\n",
      "<class 'numpy.int64'>\n",
      "<class 'numpy.int64'>\n",
      "<class 'numpy.int64'>\n",
      "<class 'numpy.int64'>\n",
      "<class 'numpy.int64'>\n",
      "<class 'numpy.int64'>\n",
      "<class 'numpy.int64'>\n",
      "<class 'numpy.int64'>\n",
      "<class 'numpy.int64'>\n",
      "<class 'numpy.int64'>\n",
      "<class 'numpy.int64'>\n",
      "<class 'numpy.int64'>\n",
      "<class 'numpy.int64'>\n",
      "<class 'numpy.int64'>\n",
      "<class 'numpy.int64'>\n",
      "<class 'numpy.int64'>\n",
      "<class 'numpy.int64'>\n",
      "<class 'numpy.int64'>\n",
      "<class 'numpy.int64'>\n",
      "<class 'numpy.int64'>\n",
      "<class 'numpy.int64'>\n",
      "<class 'numpy.int64'>\n",
      "<class 'numpy.int64'>\n",
      "<class 'numpy.int64'>\n",
      "<class 'numpy.int64'>\n",
      "<class 'numpy.int64'>\n",
      "<class 'numpy.int64'>\n",
      "<class 'numpy.int64'>\n",
      "<class 'numpy.int64'>\n",
      "<class 'numpy.int64'>\n",
      "<class 'numpy.int64'>\n",
      "<class 'numpy.int64'>\n",
      "<class 'numpy.int64'>\n",
      "<class 'numpy.int64'>\n",
      "<class 'numpy.int64'>\n",
      "<class 'numpy.int64'>\n",
      "<class 'numpy.int64'>\n",
      "<class 'numpy.int64'>\n",
      "<class 'numpy.int64'>\n",
      "<class 'numpy.int64'>\n",
      "<class 'numpy.int64'>\n",
      "<class 'numpy.int64'>\n",
      "<class 'numpy.int64'>\n",
      "<class 'numpy.int64'>\n",
      "<class 'numpy.int64'>\n",
      "<class 'numpy.int64'>\n",
      "<class 'numpy.int64'>\n",
      "<class 'numpy.int64'>\n",
      "<class 'numpy.int64'>\n",
      "<class 'numpy.int64'>\n",
      "<class 'numpy.int64'>\n",
      "<class 'numpy.int64'>\n",
      "<class 'numpy.int64'>\n",
      "<class 'numpy.int64'>\n",
      "<class 'numpy.int64'>\n",
      "<class 'numpy.int64'>\n",
      "<class 'numpy.int64'>\n",
      "<class 'numpy.int64'>\n",
      "<class 'numpy.int64'>\n",
      "<class 'numpy.int64'>\n",
      "<class 'numpy.int64'>\n",
      "<class 'numpy.int64'>\n",
      "<class 'numpy.int64'>\n",
      "<class 'numpy.int64'>\n",
      "<class 'numpy.int64'>\n",
      "<class 'numpy.int64'>\n",
      "<class 'numpy.int64'>\n",
      "<class 'numpy.int64'>\n",
      "<class 'numpy.int64'>\n",
      "<class 'numpy.int64'>\n",
      "<class 'numpy.int64'>\n",
      "<class 'numpy.int64'>\n",
      "<class 'numpy.int64'>\n",
      "<class 'numpy.int64'>\n",
      "<class 'numpy.int64'>\n",
      "<class 'numpy.int64'>\n",
      "<class 'numpy.int64'>\n",
      "<class 'numpy.int64'>\n",
      "<class 'numpy.int64'>\n",
      "<class 'numpy.int64'>\n",
      "<class 'numpy.int64'>\n",
      "<class 'numpy.int64'>\n",
      "<class 'numpy.int64'>\n",
      "<class 'numpy.int64'>\n",
      "<class 'numpy.int64'>\n",
      "<class 'numpy.int64'>\n",
      "<class 'numpy.int64'>\n",
      "<class 'numpy.int64'>\n",
      "<class 'numpy.int64'>\n",
      "<class 'numpy.int64'>\n",
      "<class 'numpy.int64'>\n",
      "<class 'numpy.int64'>\n",
      "<class 'numpy.int64'>\n",
      "<class 'numpy.int64'>\n",
      "<class 'numpy.int64'>\n",
      "<class 'numpy.int64'>\n",
      "<class 'numpy.int64'>\n",
      "<class 'numpy.int64'>\n",
      "<class 'numpy.int64'>\n",
      "<class 'numpy.int64'>\n",
      "<class 'numpy.int64'>\n",
      "<class 'numpy.int64'>\n",
      "<class 'numpy.int64'>\n",
      "<class 'numpy.int64'>\n",
      "<class 'numpy.int64'>\n",
      "<class 'numpy.int64'>\n",
      "<class 'numpy.int64'>\n",
      "<class 'numpy.int64'>\n",
      "<class 'numpy.int64'>\n",
      "<class 'numpy.int64'>\n",
      "<class 'numpy.int64'>\n",
      "<class 'numpy.int64'>\n",
      "<class 'numpy.int64'>\n",
      "<class 'numpy.int64'>\n",
      "<class 'numpy.int64'>\n",
      "<class 'numpy.int64'>\n",
      "<class 'numpy.int64'>\n",
      "<class 'numpy.int64'>\n",
      "<class 'numpy.int64'>\n",
      "<class 'numpy.int64'>\n",
      "<class 'numpy.int64'>\n",
      "<class 'numpy.int64'>\n",
      "<class 'numpy.int64'>\n",
      "<class 'numpy.int64'>\n",
      "<class 'numpy.int64'>\n",
      "<class 'numpy.int64'>\n",
      "<class 'numpy.int64'>\n",
      "<class 'numpy.int64'>\n",
      "<class 'numpy.int64'>\n",
      "<class 'numpy.int64'>\n",
      "<class 'numpy.int64'>\n",
      "<class 'numpy.int64'>\n",
      "<class 'numpy.int64'>\n",
      "<class 'numpy.int64'>\n",
      "<class 'numpy.int64'>\n",
      "<class 'numpy.int64'>\n",
      "<class 'numpy.int64'>\n",
      "<class 'numpy.int64'>\n",
      "<class 'numpy.int64'>\n",
      "<class 'numpy.int64'>\n",
      "<class 'numpy.int64'>\n",
      "<class 'numpy.int64'>\n",
      "<class 'numpy.int64'>\n",
      "<class 'numpy.int64'>\n",
      "<class 'numpy.int64'>\n",
      "<class 'numpy.int64'>\n",
      "<class 'numpy.int64'>\n",
      "<class 'numpy.int64'>\n",
      "<class 'numpy.int64'>\n",
      "<class 'numpy.int64'>\n",
      "<class 'numpy.int64'>\n",
      "<class 'numpy.int64'>\n",
      "<class 'numpy.int64'>\n",
      "<class 'numpy.int64'>\n",
      "<class 'numpy.int64'>\n",
      "<class 'numpy.int64'>\n",
      "<class 'numpy.int64'>\n",
      "<class 'numpy.int64'>\n",
      "<class 'numpy.int64'>\n",
      "<class 'numpy.int64'>\n",
      "<class 'numpy.int64'>\n",
      "<class 'numpy.int64'>\n",
      "<class 'numpy.int64'>\n",
      "<class 'numpy.int64'>\n",
      "<class 'numpy.int64'>\n",
      "<class 'numpy.int64'>\n",
      "<class 'numpy.int64'>\n",
      "<class 'numpy.int64'>\n",
      "<class 'numpy.int64'>\n",
      "<class 'numpy.int64'>\n",
      "<class 'numpy.int64'>\n",
      "<class 'numpy.int64'>\n",
      "<class 'numpy.int64'>\n",
      "<class 'numpy.int64'>\n",
      "<class 'numpy.int64'>\n",
      "<class 'numpy.int64'>\n",
      "<class 'numpy.int64'>\n",
      "<class 'numpy.int64'>\n",
      "<class 'numpy.int64'>\n",
      "<class 'numpy.int64'>\n",
      "<class 'numpy.int64'>\n",
      "<class 'numpy.int64'>\n",
      "<class 'numpy.int64'>\n",
      "<class 'numpy.int64'>\n",
      "<class 'numpy.int64'>\n",
      "<class 'numpy.int64'>\n",
      "<class 'numpy.int64'>\n",
      "<class 'numpy.int64'>\n",
      "<class 'numpy.int64'>\n",
      "<class 'numpy.int64'>\n",
      "<class 'numpy.int64'>\n",
      "<class 'numpy.int64'>\n",
      "<class 'numpy.int64'>\n",
      "<class 'numpy.int64'>\n",
      "<class 'numpy.int64'>\n",
      "<class 'numpy.int64'>\n",
      "<class 'numpy.int64'>\n",
      "<class 'numpy.int64'>\n",
      "<class 'numpy.int64'>\n",
      "<class 'numpy.int64'>\n",
      "<class 'numpy.int64'>\n",
      "<class 'numpy.int64'>\n",
      "<class 'numpy.int64'>\n",
      "<class 'numpy.int64'>\n",
      "<class 'numpy.int64'>\n",
      "<class 'numpy.int64'>\n",
      "<class 'numpy.int64'>\n",
      "<class 'numpy.int64'>\n",
      "<class 'numpy.int64'>\n",
      "<class 'numpy.int64'>\n",
      "<class 'numpy.int64'>\n",
      "<class 'numpy.int64'>\n",
      "<class 'numpy.int64'>\n",
      "<class 'numpy.int64'>\n",
      "<class 'numpy.int64'>\n",
      "<class 'numpy.int64'>\n",
      "<class 'numpy.int64'>\n",
      "<class 'numpy.int64'>\n",
      "<class 'numpy.int64'>\n",
      "<class 'numpy.int64'>\n",
      "<class 'numpy.int64'>\n",
      "<class 'numpy.int64'>\n",
      "<class 'numpy.int64'>\n",
      "<class 'numpy.int64'>\n",
      "<class 'numpy.int64'>\n",
      "<class 'numpy.int64'>\n",
      "<class 'numpy.int64'>\n",
      "<class 'numpy.int64'>\n",
      "<class 'numpy.int64'>\n",
      "<class 'numpy.int64'>\n",
      "<class 'numpy.int64'>\n",
      "<class 'numpy.int64'>\n",
      "<class 'numpy.int64'>\n",
      "<class 'numpy.int64'>\n",
      "<class 'numpy.int64'>\n",
      "<class 'numpy.int64'>\n",
      "<class 'numpy.int64'>\n",
      "<class 'numpy.int64'>\n",
      "<class 'numpy.int64'>\n",
      "<class 'numpy.int64'>\n",
      "<class 'numpy.int64'>\n",
      "<class 'numpy.int64'>\n",
      "<class 'numpy.int64'>\n",
      "<class 'numpy.int64'>\n",
      "<class 'numpy.int64'>\n",
      "<class 'numpy.int64'>\n",
      "<class 'numpy.int64'>\n",
      "<class 'numpy.int64'>\n",
      "<class 'numpy.int64'>\n",
      "<class 'numpy.int64'>\n",
      "<class 'numpy.int64'>\n",
      "<class 'numpy.int64'>\n",
      "<class 'numpy.int64'>\n",
      "<class 'numpy.int64'>\n",
      "<class 'numpy.int64'>\n",
      "<class 'numpy.int64'>\n",
      "<class 'numpy.int64'>\n",
      "<class 'numpy.int64'>\n",
      "<class 'numpy.int64'>\n",
      "<class 'numpy.int64'>\n",
      "<class 'numpy.int64'>\n",
      "<class 'numpy.int64'>\n",
      "<class 'numpy.int64'>\n",
      "<class 'numpy.int64'>\n",
      "<class 'numpy.int64'>\n",
      "<class 'numpy.int64'>\n",
      "<class 'numpy.int64'>\n",
      "<class 'numpy.int64'>\n",
      "<class 'numpy.int64'>\n",
      "<class 'numpy.int64'>\n",
      "<class 'numpy.int64'>\n",
      "<class 'numpy.int64'>\n",
      "<class 'numpy.int64'>\n",
      "<class 'numpy.int64'>\n",
      "<class 'numpy.int64'>\n",
      "<class 'numpy.int64'>\n",
      "<class 'numpy.int64'>\n",
      "<class 'numpy.int64'>\n",
      "<class 'numpy.int64'>\n",
      "<class 'numpy.int64'>\n",
      "<class 'numpy.int64'>\n",
      "<class 'numpy.int64'>\n",
      "<class 'numpy.int64'>\n",
      "<class 'numpy.int64'>\n",
      "<class 'numpy.int64'>\n",
      "<class 'numpy.int64'>\n",
      "<class 'numpy.int64'>\n",
      "<class 'numpy.int64'>\n",
      "<class 'numpy.int64'>\n",
      "<class 'numpy.int64'>\n",
      "<class 'numpy.int64'>\n",
      "<class 'numpy.int64'>\n",
      "<class 'numpy.int64'>\n",
      "<class 'numpy.int64'>\n",
      "<class 'numpy.int64'>\n",
      "<class 'numpy.int64'>\n",
      "<class 'numpy.int64'>\n",
      "<class 'numpy.int64'>\n",
      "<class 'numpy.int64'>\n",
      "<class 'numpy.int64'>\n",
      "<class 'numpy.int64'>\n",
      "<class 'numpy.int64'>\n",
      "<class 'numpy.int64'>\n",
      "<class 'numpy.int64'>\n",
      "<class 'numpy.int64'>\n",
      "<class 'numpy.int64'>\n",
      "<class 'numpy.int64'>\n",
      "<class 'numpy.int64'>\n",
      "<class 'numpy.int64'>\n",
      "<class 'numpy.int64'>\n",
      "<class 'numpy.int64'>\n",
      "<class 'numpy.int64'>\n",
      "<class 'numpy.int64'>\n",
      "<class 'numpy.int64'>\n",
      "<class 'numpy.int64'>\n",
      "<class 'numpy.int64'>\n",
      "<class 'numpy.int64'>\n",
      "<class 'numpy.int64'>\n",
      "<class 'numpy.int64'>\n",
      "<class 'numpy.int64'>\n",
      "<class 'numpy.int64'>\n",
      "<class 'numpy.int64'>\n",
      "<class 'numpy.int64'>\n",
      "<class 'numpy.int64'>\n",
      "<class 'numpy.int64'>\n",
      "<class 'numpy.int64'>\n",
      "<class 'numpy.int64'>\n",
      "<class 'numpy.int64'>\n",
      "<class 'numpy.int64'>\n",
      "<class 'numpy.int64'>\n",
      "<class 'numpy.int64'>\n",
      "<class 'numpy.int64'>\n",
      "<class 'numpy.int64'>\n",
      "<class 'numpy.int64'>\n",
      "<class 'numpy.int64'>\n",
      "<class 'numpy.int64'>\n",
      "<class 'numpy.int64'>\n",
      "<class 'numpy.int64'>\n",
      "<class 'numpy.int64'>\n",
      "<class 'numpy.int64'>\n",
      "<class 'numpy.int64'>\n",
      "<class 'numpy.int64'>\n",
      "<class 'numpy.int64'>\n",
      "<class 'numpy.int64'>\n",
      "<class 'numpy.int64'>\n",
      "<class 'numpy.int64'>\n",
      "<class 'numpy.int64'>\n",
      "<class 'numpy.int64'>\n",
      "<class 'numpy.int64'>\n",
      "<class 'numpy.int64'>\n",
      "<class 'numpy.int64'>\n",
      "<class 'numpy.int64'>\n",
      "<class 'numpy.int64'>\n",
      "<class 'numpy.int64'>\n",
      "<class 'numpy.int64'>\n",
      "<class 'numpy.int64'>\n",
      "<class 'numpy.int64'>\n",
      "<class 'numpy.int64'>\n",
      "<class 'numpy.int64'>\n",
      "<class 'numpy.int64'>\n",
      "<class 'numpy.int64'>\n",
      "<class 'numpy.int64'>\n",
      "<class 'numpy.int64'>\n",
      "<class 'numpy.int64'>\n",
      "<class 'numpy.int64'>\n",
      "<class 'numpy.int64'>\n",
      "<class 'numpy.int64'>\n",
      "<class 'numpy.int64'>\n",
      "<class 'numpy.int64'>\n",
      "<class 'numpy.int64'>\n",
      "<class 'numpy.int64'>\n",
      "<class 'numpy.int64'>\n",
      "<class 'numpy.int64'>\n",
      "<class 'numpy.int64'>\n",
      "<class 'numpy.int64'>\n",
      "<class 'numpy.int64'>\n",
      "<class 'numpy.int64'>\n",
      "<class 'numpy.int64'>\n"
     ]
    }
   ],
   "source": [
    "for column in noDupes:\n",
    "    for value in range(0, len(noDupes[column])):\n",
    "        print(type(noDupes[column][value]))"
   ]
  },
  {
   "cell_type": "code",
   "execution_count": 79,
   "id": "af6bca52-c62b-4321-9894-5c8d9111efea",
   "metadata": {
    "tags": []
   },
   "outputs": [],
   "source": [
    "#Data has been cleaned of duplicates, there are no empty cells, and data types have been validated"
   ]
  },
  {
   "cell_type": "code",
   "execution_count": 80,
   "id": "03ba1a0e-fd6f-4bef-9894-aad3acf584dc",
   "metadata": {
    "tags": []
   },
   "outputs": [],
   "source": [
    "framedData.to_csv(\"Cleaned-2025-VeloCityX-Data.csv\", index = False)"
   ]
  },
  {
   "cell_type": "code",
   "execution_count": 81,
   "id": "afdcfd22-17fa-4241-9b58-7fb7184b7ca9",
   "metadata": {
    "tags": []
   },
   "outputs": [],
   "source": [
    "data = pd.read_csv(\"Cleaned-2025-VeloCityX-Data.csv\")\n",
    "framedData = DataFrame(data)"
   ]
  },
  {
   "cell_type": "code",
   "execution_count": 82,
   "id": "cbbb0c30-726d-4e73-b350-bd02c2b330e4",
   "metadata": {
    "tags": []
   },
   "outputs": [
    {
     "data": {
      "text/html": [
       "<div>\n",
       "<style scoped>\n",
       "    .dataframe tbody tr th:only-of-type {\n",
       "        vertical-align: middle;\n",
       "    }\n",
       "\n",
       "    .dataframe tbody tr th {\n",
       "        vertical-align: top;\n",
       "    }\n",
       "\n",
       "    .dataframe thead th {\n",
       "        text-align: right;\n",
       "    }\n",
       "</style>\n",
       "<table border=\"1\" class=\"dataframe\">\n",
       "  <thead>\n",
       "    <tr style=\"text-align: right;\">\n",
       "      <th></th>\n",
       "      <th>User ID</th>\n",
       "      <th>Fan Challenges Completed</th>\n",
       "      <th>Predictive Accuracy (%)</th>\n",
       "      <th>Virtual Merchandise Purchases</th>\n",
       "      <th>Sponsorship Interactions (Ad Clicks)</th>\n",
       "      <th>Time on Live 360 (mins)</th>\n",
       "      <th>Real-Time Chat Activity (Messages Sent)</th>\n",
       "    </tr>\n",
       "  </thead>\n",
       "  <tbody>\n",
       "    <tr>\n",
       "      <th>0</th>\n",
       "      <td>U001</td>\n",
       "      <td>5</td>\n",
       "      <td>80</td>\n",
       "      <td>3</td>\n",
       "      <td>10</td>\n",
       "      <td>120</td>\n",
       "      <td>20</td>\n",
       "    </tr>\n",
       "    <tr>\n",
       "      <th>1</th>\n",
       "      <td>U002</td>\n",
       "      <td>8</td>\n",
       "      <td>60</td>\n",
       "      <td>1</td>\n",
       "      <td>8</td>\n",
       "      <td>100</td>\n",
       "      <td>35</td>\n",
       "    </tr>\n",
       "    <tr>\n",
       "      <th>2</th>\n",
       "      <td>U003</td>\n",
       "      <td>3</td>\n",
       "      <td>90</td>\n",
       "      <td>0</td>\n",
       "      <td>6</td>\n",
       "      <td>90</td>\n",
       "      <td>5</td>\n",
       "    </tr>\n",
       "    <tr>\n",
       "      <th>3</th>\n",
       "      <td>U004</td>\n",
       "      <td>7</td>\n",
       "      <td>70</td>\n",
       "      <td>2</td>\n",
       "      <td>15</td>\n",
       "      <td>140</td>\n",
       "      <td>40</td>\n",
       "    </tr>\n",
       "    <tr>\n",
       "      <th>4</th>\n",
       "      <td>U005</td>\n",
       "      <td>2</td>\n",
       "      <td>50</td>\n",
       "      <td>5</td>\n",
       "      <td>3</td>\n",
       "      <td>60</td>\n",
       "      <td>8</td>\n",
       "    </tr>\n",
       "    <tr>\n",
       "      <th>...</th>\n",
       "      <td>...</td>\n",
       "      <td>...</td>\n",
       "      <td>...</td>\n",
       "      <td>...</td>\n",
       "      <td>...</td>\n",
       "      <td>...</td>\n",
       "      <td>...</td>\n",
       "    </tr>\n",
       "    <tr>\n",
       "      <th>95</th>\n",
       "      <td>U096</td>\n",
       "      <td>8</td>\n",
       "      <td>86</td>\n",
       "      <td>6</td>\n",
       "      <td>14</td>\n",
       "      <td>98</td>\n",
       "      <td>22</td>\n",
       "    </tr>\n",
       "    <tr>\n",
       "      <th>96</th>\n",
       "      <td>U097</td>\n",
       "      <td>3</td>\n",
       "      <td>82</td>\n",
       "      <td>3</td>\n",
       "      <td>1</td>\n",
       "      <td>159</td>\n",
       "      <td>24</td>\n",
       "    </tr>\n",
       "    <tr>\n",
       "      <th>97</th>\n",
       "      <td>U098</td>\n",
       "      <td>1</td>\n",
       "      <td>91</td>\n",
       "      <td>1</td>\n",
       "      <td>9</td>\n",
       "      <td>92</td>\n",
       "      <td>34</td>\n",
       "    </tr>\n",
       "    <tr>\n",
       "      <th>98</th>\n",
       "      <td>U099</td>\n",
       "      <td>8</td>\n",
       "      <td>93</td>\n",
       "      <td>0</td>\n",
       "      <td>1</td>\n",
       "      <td>160</td>\n",
       "      <td>40</td>\n",
       "    </tr>\n",
       "    <tr>\n",
       "      <th>99</th>\n",
       "      <td>U100</td>\n",
       "      <td>3</td>\n",
       "      <td>73</td>\n",
       "      <td>3</td>\n",
       "      <td>16</td>\n",
       "      <td>82</td>\n",
       "      <td>29</td>\n",
       "    </tr>\n",
       "  </tbody>\n",
       "</table>\n",
       "<p>100 rows × 7 columns</p>\n",
       "</div>"
      ],
      "text/plain": [
       "   User ID  Fan Challenges Completed  Predictive Accuracy (%)  \\\n",
       "0     U001                         5                       80   \n",
       "1     U002                         8                       60   \n",
       "2     U003                         3                       90   \n",
       "3     U004                         7                       70   \n",
       "4     U005                         2                       50   \n",
       "..     ...                       ...                      ...   \n",
       "95    U096                         8                       86   \n",
       "96    U097                         3                       82   \n",
       "97    U098                         1                       91   \n",
       "98    U099                         8                       93   \n",
       "99    U100                         3                       73   \n",
       "\n",
       "    Virtual Merchandise Purchases  Sponsorship Interactions (Ad Clicks)  \\\n",
       "0                               3                                    10   \n",
       "1                               1                                     8   \n",
       "2                               0                                     6   \n",
       "3                               2                                    15   \n",
       "4                               5                                     3   \n",
       "..                            ...                                   ...   \n",
       "95                              6                                    14   \n",
       "96                              3                                     1   \n",
       "97                              1                                     9   \n",
       "98                              0                                     1   \n",
       "99                              3                                    16   \n",
       "\n",
       "    Time on Live 360 (mins)  Real-Time Chat Activity (Messages Sent)  \n",
       "0                       120                                       20  \n",
       "1                       100                                       35  \n",
       "2                        90                                        5  \n",
       "3                       140                                       40  \n",
       "4                        60                                        8  \n",
       "..                      ...                                      ...  \n",
       "95                       98                                       22  \n",
       "96                      159                                       24  \n",
       "97                       92                                       34  \n",
       "98                      160                                       40  \n",
       "99                       82                                       29  \n",
       "\n",
       "[100 rows x 7 columns]"
      ]
     },
     "execution_count": 82,
     "metadata": {},
     "output_type": "execute_result"
    }
   ],
   "source": [
    "framedData"
   ]
  },
  {
   "cell_type": "code",
   "execution_count": 63,
   "id": "cd6e073f-d4d1-4dc6-a0cc-dca9d0c4362d",
   "metadata": {
    "tags": []
   },
   "outputs": [
    {
     "data": {
      "text/plain": [
       "count    100.000000\n",
       "mean       2.670000\n",
       "std        2.064882\n",
       "min        0.000000\n",
       "25%        1.000000\n",
       "50%        2.000000\n",
       "75%        5.000000\n",
       "max        6.000000\n",
       "Name: Virtual Merchandise Purchases, dtype: float64"
      ]
     },
     "execution_count": 63,
     "metadata": {},
     "output_type": "execute_result"
    }
   ],
   "source": [
    "framedData['Virtual Merchandise Purchases'].describe()"
   ]
  },
  {
   "cell_type": "code",
   "execution_count": 175,
   "id": "cde99ddf-4a60-4000-bc37-dcef6382b8ba",
   "metadata": {
    "tags": []
   },
   "outputs": [],
   "source": [
    "def distance(x, y):\n",
    "    return int(math.fabs(x[0] - y[0]) + math.fabs(x[1]-y[1]))"
   ]
  },
  {
   "cell_type": "code",
   "execution_count": 176,
   "id": "cc903a9e-2a0e-4252-ab64-694f0d980ba8",
   "metadata": {
    "tags": []
   },
   "outputs": [],
   "source": [
    "def addPoints(attribute1, attribute2):\n",
    "    points = []\n",
    "    for x in range(0, len(attribute1)):\n",
    "        points.append([attribute1[x], attribute2[x]])\n",
    "    return points"
   ]
  },
  {
   "cell_type": "code",
   "execution_count": 177,
   "id": "0963a03d-277c-43d5-bb9c-2c8bbcb5ff3d",
   "metadata": {
    "tags": []
   },
   "outputs": [],
   "source": [
    "points = addPoints(framedData['Virtual Merchandise Purchases'], framedData['Fan Challenges Completed'])"
   ]
  },
  {
   "cell_type": "code",
   "execution_count": 178,
   "id": "a6346808-fd4f-402c-bb3b-78a3e9ea8f93",
   "metadata": {
    "tags": []
   },
   "outputs": [],
   "source": [
    "from random import randrange\n",
    "\n",
    "\n",
    "def generateCentroid():\n",
    "    x = randrange(100)\n",
    "    return x"
   ]
  },
  {
   "cell_type": "code",
   "execution_count": 179,
   "id": "3b13e16c-9806-4c05-90a6-c735f542105a",
   "metadata": {
    "tags": []
   },
   "outputs": [],
   "source": [
    "x = generateCentroid()\n",
    "y = generateCentroid()\n",
    "z = generateCentroid()\n",
    "\n",
    "centroid1 = points[x]\n",
    "centroid2 = points[y]\n",
    "centroid3 = points[z]"
   ]
  },
  {
   "cell_type": "code",
   "execution_count": 180,
   "id": "b6061fee-3a80-458c-a9ed-0eef0dbfbb20",
   "metadata": {
    "tags": []
   },
   "outputs": [],
   "source": [
    "def SSE (center, cluster):\n",
    "    sum = 0\n",
    "    for p in cluster:\n",
    "        d = distance(center, p)\n",
    "        sum = sum + d * d\n",
    "    return sum"
   ]
  },
  {
   "cell_type": "code",
   "execution_count": 181,
   "id": "13697bc0-5439-4288-9173-82e467dd1ea0",
   "metadata": {
    "tags": []
   },
   "outputs": [],
   "source": [
    "def get_X(P):\n",
    "    r = []\n",
    "    for x in P:\n",
    "        r.append(x[0])\n",
    "    return r\n",
    "\n",
    "def get_Y(P):\n",
    "    r = []\n",
    "    for x in P:\n",
    "        r.append(x[1])\n",
    "    return r"
   ]
  },
  {
   "cell_type": "code",
   "execution_count": 182,
   "id": "c6a79ac9-b2e9-4e20-8647-2bb5268eb544",
   "metadata": {
    "tags": []
   },
   "outputs": [],
   "source": [
    "import math\n",
    "\n",
    "cluster1 = []\n",
    "cluster2 = []\n",
    "cluster3 = []\n",
    "\n",
    "for i in range(len(points)):\n",
    "    if (distance(points[i], centroid1) < distance(points[i], centroid2) and distance(points[i], centroid1) < distance(points[i], centroid3)):\n",
    "        cluster1.append(i)\n",
    "    elif(distance(points[i], centroid2) < distance(points[i], centroid3)):\n",
    "        cluster2.append(i)\n",
    "    else:\n",
    "        cluster3.append(i)"
   ]
  },
  {
   "cell_type": "code",
   "execution_count": 183,
   "id": "762d0c60-9b9c-478e-97b8-56951fe90812",
   "metadata": {
    "tags": []
   },
   "outputs": [
    {
     "data": {
      "text/plain": [
       "count    100.000000\n",
       "mean       5.790000\n",
       "std        2.825908\n",
       "min        1.000000\n",
       "25%        3.000000\n",
       "50%        6.000000\n",
       "75%        8.000000\n",
       "max       10.000000\n",
       "Name: Fan Challenges Completed, dtype: float64"
      ]
     },
     "execution_count": 183,
     "metadata": {},
     "output_type": "execute_result"
    }
   ],
   "source": [
    "framedData['Fan Challenges Completed'].describe()"
   ]
  },
  {
   "cell_type": "code",
   "execution_count": 184,
   "id": "67d97f4a-29ea-4bf9-bc09-90f47fbcaed0",
   "metadata": {
    "tags": []
   },
   "outputs": [
    {
     "data": {
      "text/plain": [
       "Text(0, 0.5, 'Fan Challenges Completed')"
      ]
     },
     "execution_count": 184,
     "metadata": {},
     "output_type": "execute_result"
    },
    {
     "data": {
      "image/png": "[encoded data removed]",
      "text/plain": [
       "<Figure size 640x480 with 1 Axes>"
      ]
     },
     "metadata": {},
     "output_type": "display_data"
    }
   ],
   "source": [
    "import matplotlib.pyplot as plot\n",
    "\n",
    "cluster_points = []\n",
    "for x in cluster1:\n",
    "    cluster_points.append(points[x])\n",
    "X = get_X(cluster_points)\n",
    "Y = get_Y(cluster_points)\n",
    "plot.ylim([-5,12])\n",
    "plot.xlim([-5,12])\n",
    "plot.scatter(X, Y, color=\"green\")\n",
    "\n",
    "cluster_points = []\n",
    "for x in cluster2:\n",
    "    cluster_points.append(points[x])\n",
    "X = get_X(cluster_points)\n",
    "Y = get_Y(cluster_points)\n",
    "plot.ylim([-5,12])\n",
    "plot.xlim([-5,12])\n",
    "plot.scatter(X, Y, color=\"red\")\n",
    "\n",
    "cluster_points = []\n",
    "for x in cluster3:\n",
    "    cluster_points.append(points[x])\n",
    "X = get_X(cluster_points)\n",
    "Y = get_Y(cluster_points)\n",
    "plot.ylim([-5,12])\n",
    "plot.xlim([-5,12])\n",
    "plot.scatter(X, Y, color=\"blue\")\n",
    "\n",
    "X = get_X([centroid1])\n",
    "Y = get_Y([centroid1])\n",
    "plot.ylim([-5,12])\n",
    "plot.xlim([-5,12])\n",
    "plot.scatter(X, Y, color=\"orange\", marker=\"^\")\n",
    "\n",
    "X = get_X([centroid2])\n",
    "Y = get_Y([centroid2])\n",
    "plot.ylim([-5,12])\n",
    "plot.xlim([-5,12])\n",
    "plot.scatter(X, Y, color=\"cyan\", marker=\"^\")\n",
    "\n",
    "X = get_X([centroid3])\n",
    "Y = get_Y([centroid3])\n",
    "plot.ylim([-5,12])\n",
    "plot.xlim([-5,12])\n",
    "plot.scatter(X, Y, color=\"pink\", marker=\"^\")\n",
    "\n",
    "plot.xlabel(\"Virtual Merchandise Purchased\")\n",
    "plot.ylabel(\"Fan Challenges Completed\")"
   ]
  },
  {
   "cell_type": "code",
   "execution_count": 211,
   "id": "d37ec12a-1a6a-4dfe-a52f-47ff136284a2",
   "metadata": {
    "tags": []
   },
   "outputs": [],
   "source": [
    "oldCentroid1 = centroid1\n",
    "oldCentroid2 = centroid2\n",
    "oldCentroid3 = centroid3"
   ]
  },
  {
   "cell_type": "code",
   "execution_count": 212,
   "id": "eccddffe-6ea4-429c-ba96-4634e4b0176d",
   "metadata": {
    "tags": []
   },
   "outputs": [],
   "source": [
    "def newCentroid(p):\n",
    "    sumOfX = 0\n",
    "    sumOfY = 0\n",
    "    for i in range(len(p)):\n",
    "        sumOfX = points[p[i]][0] + sumOfX\n",
    "    for i in range(len(p)):\n",
    "        sumOfY = points[p[i]][1] + sumOfY\n",
    "    return int(sumOfX/len(p)), int(sumOfY/len(p))"
   ]
  },
  {
   "cell_type": "code",
   "execution_count": 213,
   "id": "757baf70-9cd5-439c-849a-ca47b27e846f",
   "metadata": {
    "tags": []
   },
   "outputs": [
    {
     "name": "stdout",
     "output_type": "stream",
     "text": [
      "False\n",
      "False\n",
      "False\n"
     ]
    }
   ],
   "source": [
    "cluster1 = []\n",
    "cluster2 = []\n",
    "cluster3 = []\n",
    "\n",
    "for i in range(len(points)):\n",
    "    if (distance(points[i], centroid1) < distance(points[i], centroid2) and distance(points[i], centroid1) < distance(points[i], centroid3)):\n",
    "        cluster1.append(i)\n",
    "    elif(distance(points[i], centroid2) < distance(points[i], centroid3)):\n",
    "        cluster2.append(i)\n",
    "    else:\n",
    "        cluster3.append(i)\n",
    "\n",
    "oldCentroid1 = centroid1\n",
    "oldCentroid2 = centroid2\n",
    "oldCentroid3 = centroid3\n",
    "\n",
    "centroid1 = newCentroid(cluster1)\n",
    "centroid2 = newCentroid(cluster2)\n",
    "centroid3 = newCentroid(cluster3)\n",
    "\n",
    "print(oldCentroid1 == centroid1)\n",
    "print(oldCentroid2 == centroid2)\n",
    "print(oldCentroid3 == centroid3)"
   ]
  },
  {
   "cell_type": "code",
   "execution_count": null,
   "id": "21cbc8bb-8aae-4101-b8e4-60b975fb7c47",
   "metadata": {},
   "outputs": [],
   "source": [
    "# Repeat above steps until the old centroids equal the new ones to know when clustering is done"
   ]
  },
  {
   "cell_type": "code",
   "execution_count": 210,
   "id": "7c8a211f-c3e8-4e99-972d-a4e5fb6b2c3d",
   "metadata": {
    "tags": []
   },
   "outputs": [
    {
     "data": {
      "text/plain": [
       "Text(0, 0.5, 'Fan Challenges Completed')"
      ]
     },
     "execution_count": 210,
     "metadata": {},
     "output_type": "execute_result"
    },
    {
     "data": {
      "image/png": "[encoded data removed]",
      "text/plain": [
       "<Figure size 640x480 with 1 Axes>"
      ]
     },
     "metadata": {},
     "output_type": "display_data"
    }
   ],
   "source": [
    "plot.scatter(framedData['Virtual Merchandise Purchases'], framedData['Fan Challenges Completed'])\n",
    "plot.xlabel(\"Virtual Merchandise Purchases\")\n",
    "plot.ylabel(\"Fan Challenges Completed\")"
   ]
  },
  {
   "cell_type": "code",
   "execution_count": 189,
   "id": "a1726a66-4073-4274-aae7-e51cd8ab2ec3",
   "metadata": {
    "tags": []
   },
   "outputs": [],
   "source": [
    "# There isn't a noticeable correlation of any kind, so there seems to be little relationship between # of purchases merchandise and the # of fan challenges completed"
   ]
  },
  {
   "cell_type": "code",
   "execution_count": 190,
   "id": "d2373e7e-d162-4da0-bd1e-2cdd83d85c67",
   "metadata": {
    "tags": []
   },
   "outputs": [],
   "source": [
    "points = addPoints(framedData['Virtual Merchandise Purchases'], framedData['Predictive Accuracy (%)'])"
   ]
  },
  {
   "cell_type": "code",
   "execution_count": 191,
   "id": "c219197f-e592-4bae-b13d-d770ce75a765",
   "metadata": {
    "tags": []
   },
   "outputs": [
    {
     "data": {
      "text/plain": [
       "count    100.000000\n",
       "mean      74.990000\n",
       "std       14.033506\n",
       "min       50.000000\n",
       "25%       62.000000\n",
       "50%       77.000000\n",
       "75%       86.500000\n",
       "max       98.000000\n",
       "Name: Predictive Accuracy (%), dtype: float64"
      ]
     },
     "execution_count": 191,
     "metadata": {},
     "output_type": "execute_result"
    }
   ],
   "source": [
    "framedData['Predictive Accuracy (%)'].describe()"
   ]
  },
  {
   "cell_type": "code",
   "execution_count": 192,
   "id": "d5aee3a0-ec44-45ee-828d-7955fc4bf070",
   "metadata": {
    "tags": []
   },
   "outputs": [
    {
     "data": {
      "text/plain": [
       "Text(0, 0.5, 'Predictive Accuracy (%)')"
      ]
     },
     "execution_count": 192,
     "metadata": {},
     "output_type": "execute_result"
    },
    {
     "data": {
      "image/png": "[encoded data removed]",
      "text/plain": [
       "<Figure size 640x480 with 1 Axes>"
      ]
     },
     "metadata": {},
     "output_type": "display_data"
    }
   ],
   "source": [
    "x = generateCentroid()\n",
    "y = generateCentroid()\n",
    "z = generateCentroid()\n",
    "\n",
    "centroid1 = points[x]\n",
    "centroid2 = points[y]\n",
    "centroid3 = points[z]\n",
    "\n",
    "cluster1 = []\n",
    "cluster2 = []\n",
    "cluster3 = []\n",
    "\n",
    "for i in range(len(points)):\n",
    "    if (distance(points[i], centroid1) < distance(points[i], centroid2) and distance(points[i], centroid1) < distance(points[i], centroid3)):\n",
    "        cluster1.append(i)\n",
    "    elif(distance(points[i], centroid2) < distance(points[i], centroid3)):\n",
    "        cluster2.append(i)\n",
    "    else:\n",
    "        cluster3.append(i)\n",
    "        \n",
    "cluster_points = []\n",
    "for x in cluster1:\n",
    "    cluster_points.append(points[x])\n",
    "X = get_X(cluster_points)\n",
    "Y = get_Y(cluster_points)\n",
    "plot.ylim([-5,100])\n",
    "plot.xlim([-5,10])\n",
    "plot.scatter(X, Y, color=\"green\")\n",
    "\n",
    "cluster_points = []\n",
    "for x in cluster2:\n",
    "    cluster_points.append(points[x])\n",
    "X = get_X(cluster_points)\n",
    "Y = get_Y(cluster_points)\n",
    "plot.ylim([-5,100])\n",
    "plot.xlim([-5,10])\n",
    "plot.scatter(X, Y, color=\"red\")\n",
    "\n",
    "cluster_points = []\n",
    "for x in cluster3:\n",
    "    cluster_points.append(points[x])\n",
    "X = get_X(cluster_points)\n",
    "Y = get_Y(cluster_points)\n",
    "plot.ylim([-5,100])\n",
    "plot.xlim([-5,10])\n",
    "plot.scatter(X, Y, color=\"blue\")\n",
    "\n",
    "X = get_X([centroid1])\n",
    "Y = get_Y([centroid1])\n",
    "plot.ylim([-5,100])\n",
    "plot.xlim([-5,10])\n",
    "plot.scatter(X, Y, color=\"orange\", marker=\"^\")\n",
    "\n",
    "X = get_X([centroid2])\n",
    "Y = get_Y([centroid2])\n",
    "plot.ylim([-5,100])\n",
    "plot.xlim([-5,10])\n",
    "plot.scatter(X, Y, color=\"cyan\", marker=\"^\")\n",
    "\n",
    "X = get_X([centroid3])\n",
    "Y = get_Y([centroid3])\n",
    "plot.ylim([-5,100])\n",
    "plot.xlim([-5,10])\n",
    "plot.scatter(X, Y, color=\"pink\", marker=\"^\")\n",
    "\n",
    "plot.xlabel(\"Virtual Merchandise Purchased\")\n",
    "plot.ylabel(\"Predictive Accuracy (%)\")"
   ]
  },
  {
   "cell_type": "code",
   "execution_count": 209,
   "id": "46418aa0-9698-4e7c-b7ef-4cd84da851c8",
   "metadata": {
    "tags": []
   },
   "outputs": [
    {
     "data": {
      "text/plain": [
       "Text(0, 0.5, 'Predictive Accuracy (%)')"
      ]
     },
     "execution_count": 209,
     "metadata": {},
     "output_type": "execute_result"
    },
    {
     "data": {
      "image/png": "[encoded data removed]",
      "text/plain": [
       "<Figure size 640x480 with 1 Axes>"
      ]
     },
     "metadata": {},
     "output_type": "display_data"
    }
   ],
   "source": [
    "plot.scatter(framedData['Virtual Merchandise Purchases'], framedData['Predictive Accuracy (%)'])\n",
    "plot.xlabel(\"Virtual Merchandise Purchases\")\n",
    "plot.ylabel(\"Predictive Accuracy (%)\")"
   ]
  },
  {
   "cell_type": "code",
   "execution_count": 194,
   "id": "888255b8-5198-4758-8c44-ebc95be7f8bd",
   "metadata": {
    "tags": []
   },
   "outputs": [],
   "source": [
    "# There seems to be little correlation between Virtual Merchandise Purchases and Predictive Accuracy %"
   ]
  },
  {
   "cell_type": "code",
   "execution_count": 208,
   "id": "1eb7b8b2-d215-429a-bedc-cd4649b16699",
   "metadata": {
    "tags": []
   },
   "outputs": [
    {
     "data": {
      "text/plain": [
       "Text(0, 0.5, 'Sponsorship Interactions')"
      ]
     },
     "execution_count": 208,
     "metadata": {},
     "output_type": "execute_result"
    },
    {
     "data": {
      "image/png": "[encoded data removed]",
      "text/plain": [
       "<Figure size 640x480 with 1 Axes>"
      ]
     },
     "metadata": {},
     "output_type": "display_data"
    }
   ],
   "source": [
    "plot.scatter(framedData['Virtual Merchandise Purchases'], framedData['Sponsorship Interactions (Ad Clicks)'])\n",
    "plot.xlabel(\"Virtual Merchandise Purchases\")\n",
    "plot.ylabel(\"Sponsorship Interactions\")"
   ]
  },
  {
   "cell_type": "code",
   "execution_count": 196,
   "id": "2bcf0806-b9d9-475c-bbb3-32093908e81b",
   "metadata": {
    "tags": []
   },
   "outputs": [],
   "source": [
    "points = addPoints(framedData['Virtual Merchandise Purchases'], framedData['Sponsorship Interactions (Ad Clicks)'])"
   ]
  },
  {
   "cell_type": "code",
   "execution_count": 197,
   "id": "b99296a8-7b43-47a7-a2f3-9a7136c9cda1",
   "metadata": {
    "tags": []
   },
   "outputs": [
    {
     "data": {
      "text/plain": [
       "Text(0, 0.5, 'Sponsorship Interactions')"
      ]
     },
     "execution_count": 197,
     "metadata": {},
     "output_type": "execute_result"
    },
    {
     "data": {
      "image/png": "[encoded data removed]",
      "text/plain": [
       "<Figure size 640x480 with 1 Axes>"
      ]
     },
     "metadata": {},
     "output_type": "display_data"
    }
   ],
   "source": [
    "x = generateCentroid()\n",
    "y = generateCentroid()\n",
    "z = generateCentroid()\n",
    "\n",
    "centroid1 = points[x]\n",
    "centroid2 = points[y]\n",
    "centroid3 = points[z]\n",
    "\n",
    "cluster1 = []\n",
    "cluster2 = []\n",
    "cluster3 = []\n",
    "\n",
    "for i in range(len(points)):\n",
    "    if (distance(points[i], centroid1) < distance(points[i], centroid2) and distance(points[i], centroid1) < distance(points[i], centroid3)):\n",
    "        cluster1.append(i)\n",
    "    elif(distance(points[i], centroid2) < distance(points[i], centroid3)):\n",
    "        cluster2.append(i)\n",
    "    else:\n",
    "        cluster3.append(i)\n",
    "        \n",
    "cluster_points = []\n",
    "for x in cluster1:\n",
    "    cluster_points.append(points[x])\n",
    "X = get_X(cluster_points)\n",
    "Y = get_Y(cluster_points)\n",
    "plot.ylim([-5,20])\n",
    "plot.xlim([-5,10])\n",
    "plot.scatter(X, Y, color=\"green\")\n",
    "\n",
    "cluster_points = []\n",
    "for x in cluster2:\n",
    "    cluster_points.append(points[x])\n",
    "X = get_X(cluster_points)\n",
    "Y = get_Y(cluster_points)\n",
    "plot.ylim([-5,20])\n",
    "plot.xlim([-5,10])\n",
    "plot.scatter(X, Y, color=\"red\")\n",
    "\n",
    "cluster_points = []\n",
    "for x in cluster3:\n",
    "    cluster_points.append(points[x])\n",
    "X = get_X(cluster_points)\n",
    "Y = get_Y(cluster_points)\n",
    "plot.ylim([-5,20])\n",
    "plot.xlim([-5,10])\n",
    "plot.scatter(X, Y, color=\"blue\")\n",
    "\n",
    "X = get_X([centroid1])\n",
    "Y = get_Y([centroid1])\n",
    "plot.ylim([-5,20])\n",
    "plot.xlim([-5,10])\n",
    "plot.scatter(X, Y, color=\"orange\", marker=\"^\")\n",
    "\n",
    "X = get_X([centroid2])\n",
    "Y = get_Y([centroid2])\n",
    "plot.ylim([-5,20])\n",
    "plot.xlim([-5,10])\n",
    "plot.scatter(X, Y, color=\"cyan\", marker=\"^\")\n",
    "\n",
    "X = get_X([centroid3])\n",
    "Y = get_Y([centroid3])\n",
    "plot.ylim([-5,20])\n",
    "plot.xlim([-5,10])\n",
    "plot.scatter(X, Y, color=\"pink\", marker=\"^\")\n",
    "\n",
    "plot.xlabel(\"Virtual Merchandise Purchased\")\n",
    "plot.ylabel(\"Sponsorship Interactions\")"
   ]
  },
  {
   "cell_type": "code",
   "execution_count": 198,
   "id": "61f3b09f-d729-4926-854a-1a5840eece32",
   "metadata": {
    "tags": []
   },
   "outputs": [],
   "source": [
    "# There seems to be little correlation between Virtual Merchandise Purchases and Sponsorship Interactions"
   ]
  },
  {
   "cell_type": "code",
   "execution_count": 207,
   "id": "f04d025a-7a9f-44bc-8c2a-08037834c786",
   "metadata": {
    "tags": []
   },
   "outputs": [
    {
     "data": {
      "text/plain": [
       "Text(0, 0.5, 'Time on Live 360 ïn mins')"
      ]
     },
     "execution_count": 207,
     "metadata": {},
     "output_type": "execute_result"
    },
    {
     "data": {
      "image/png": "[encoded data removed]",
      "text/plain": [
       "<Figure size 640x480 with 1 Axes>"
      ]
     },
     "metadata": {},
     "output_type": "display_data"
    }
   ],
   "source": [
    "plot.scatter(framedData['Virtual Merchandise Purchases'], framedData['Time on Live 360 (mins)'])\n",
    "plot.xlabel(\"Virtual Merchandise Purchases\")\n",
    "plot.ylabel(\"Time on Live 360 ïn mins\")"
   ]
  },
  {
   "cell_type": "code",
   "execution_count": 199,
   "id": "ea2ee0a6-9598-4c8b-a589-3ccc2f3adf7a",
   "metadata": {
    "tags": []
   },
   "outputs": [],
   "source": [
    "points = addPoints(framedData['Virtual Merchandise Purchases'], framedData['Time on Live 360 (mins)'])"
   ]
  },
  {
   "cell_type": "code",
   "execution_count": 201,
   "id": "4275d025-aed9-426e-82bb-6a582076d6d3",
   "metadata": {
    "tags": []
   },
   "outputs": [
    {
     "data": {
      "text/plain": [
       "Text(0, 0.5, 'Time on Live 360 in mins')"
      ]
     },
     "execution_count": 201,
     "metadata": {},
     "output_type": "execute_result"
    },
    {
     "data": {
      "image/png": "[encoded data removed]",
      "text/plain": [
       "<Figure size 640x480 with 1 Axes>"
      ]
     },
     "metadata": {},
     "output_type": "display_data"
    }
   ],
   "source": [
    "x = generateCentroid()\n",
    "y = generateCentroid()\n",
    "z = generateCentroid()\n",
    "\n",
    "centroid1 = points[x]\n",
    "centroid2 = points[y]\n",
    "centroid3 = points[z]\n",
    "\n",
    "cluster1 = []\n",
    "cluster2 = []\n",
    "cluster3 = []\n",
    "\n",
    "for i in range(len(points)):\n",
    "    if (distance(points[i], centroid1) < distance(points[i], centroid2) and distance(points[i], centroid1) < distance(points[i], centroid3)):\n",
    "        cluster1.append(i)\n",
    "    elif(distance(points[i], centroid2) < distance(points[i], centroid3)):\n",
    "        cluster2.append(i)\n",
    "    else:\n",
    "        cluster3.append(i)\n",
    "        \n",
    "cluster_points = []\n",
    "for x in cluster1:\n",
    "    cluster_points.append(points[x])\n",
    "X = get_X(cluster_points)\n",
    "Y = get_Y(cluster_points)\n",
    "plot.ylim([-5,200])\n",
    "plot.xlim([-5,10])\n",
    "plot.scatter(X, Y, color=\"green\")\n",
    "\n",
    "cluster_points = []\n",
    "for x in cluster2:\n",
    "    cluster_points.append(points[x])\n",
    "X = get_X(cluster_points)\n",
    "Y = get_Y(cluster_points)\n",
    "plot.ylim([-5,200])\n",
    "plot.xlim([-5,10])\n",
    "plot.scatter(X, Y, color=\"red\")\n",
    "\n",
    "cluster_points = []\n",
    "for x in cluster3:\n",
    "    cluster_points.append(points[x])\n",
    "X = get_X(cluster_points)\n",
    "Y = get_Y(cluster_points)\n",
    "plot.ylim([-5,200])\n",
    "plot.xlim([-5,10])\n",
    "plot.scatter(X, Y, color=\"blue\")\n",
    "\n",
    "X = get_X([centroid1])\n",
    "Y = get_Y([centroid1])\n",
    "plot.ylim([-5,200])\n",
    "plot.xlim([-5,10])\n",
    "plot.scatter(X, Y, color=\"orange\", marker=\"^\")\n",
    "\n",
    "X = get_X([centroid2])\n",
    "Y = get_Y([centroid2])\n",
    "plot.ylim([-5,200])\n",
    "plot.xlim([-5,10])\n",
    "plot.scatter(X, Y, color=\"cyan\", marker=\"^\")\n",
    "\n",
    "X = get_X([centroid3])\n",
    "Y = get_Y([centroid3])\n",
    "plot.ylim([-5,200])\n",
    "plot.xlim([-5,10])\n",
    "plot.scatter(X, Y, color=\"pink\", marker=\"^\")\n",
    "\n",
    "plot.xlabel(\"Virtual Merchandise Purchased\")\n",
    "plot.ylabel(\"Time on Live 360 in mins\")"
   ]
  },
  {
   "cell_type": "code",
   "execution_count": 202,
   "id": "ca2393c5-64d3-40b9-a2c4-561230b4caa2",
   "metadata": {
    "tags": []
   },
   "outputs": [],
   "source": [
    "# There seems to be little correlation between Virtual Merchandise Purchases and Time on Live 360 in mins"
   ]
  },
  {
   "cell_type": "code",
   "execution_count": 206,
   "id": "01933e1d-6faf-47c7-b3fa-a700e82c7c92",
   "metadata": {
    "tags": []
   },
   "outputs": [
    {
     "data": {
      "text/plain": [
       "Text(0, 0.5, 'Real-Time Chat Activity')"
      ]
     },
     "execution_count": 206,
     "metadata": {},
     "output_type": "execute_result"
    },
    {
     "data": {
      "image/png": "[encoded data removed]",
      "text/plain": [
       "<Figure size 640x480 with 1 Axes>"
      ]
     },
     "metadata": {},
     "output_type": "display_data"
    }
   ],
   "source": [
    "plot.scatter(framedData['Virtual Merchandise Purchases'], framedData['Real-Time Chat Activity (Messages Sent)'])\n",
    "plot.xlabel(\"Virtual Merchandise Purchases\")\n",
    "plot.ylabel(\"Real-Time Chat Activity\")"
   ]
  },
  {
   "cell_type": "code",
   "execution_count": 204,
   "id": "672ad086-23e6-43ec-81f1-76506fade687",
   "metadata": {
    "tags": []
   },
   "outputs": [],
   "source": [
    "# There seems to be little correlation between Virtual Merchandise Purchases and Real-Time Chat Activity"
   ]
  },
  {
   "cell_type": "code",
   "execution_count": 205,
   "id": "f5d1eb23-8c17-48a3-a61c-ca568b0163b6",
   "metadata": {
    "tags": []
   },
   "outputs": [
    {
     "data": {
      "text/plain": [
       "Text(0, 0.5, 'Real-Time Chat Activity')"
      ]
     },
     "execution_count": 205,
     "metadata": {},
     "output_type": "execute_result"
    },
    {
     "data": {
      "image/png": "[encoded data removed]",
      "text/plain": [
       "<Figure size 640x480 with 1 Axes>"
      ]
     },
     "metadata": {},
     "output_type": "display_data"
    }
   ],
   "source": [
    "plot.scatter(framedData['Sponsorship Interactions (Ad Clicks)'], framedData['Real-Time Chat Activity (Messages Sent)'])\n",
    "plot.xlabel(\"Sponsorship Interactions\")\n",
    "plot.ylabel(\"Real-Time Chat Activity\")"
   ]
  },
  {
   "cell_type": "code",
   "execution_count": 214,
   "id": "c6a5daa2-caa6-4abf-a498-61e2372456e9",
   "metadata": {
    "tags": []
   },
   "outputs": [],
   "source": [
    "# There seems to be little correlation between Sponsorship Interactions and Real-Time Chat Activity"
   ]
  },
  {
   "cell_type": "code",
   "execution_count": 215,
   "id": "5ee294b4-93d7-4a84-9d27-f5d11af2f69c",
   "metadata": {
    "tags": []
   },
   "outputs": [
    {
     "data": {
      "text/plain": [
       "Text(0, 0.5, 'Time on Live 360 in mins')"
      ]
     },
     "execution_count": 215,
     "metadata": {},
     "output_type": "execute_result"
    },
    {
     "data": {
      "image/png": "[encoded data removed]",
      "text/plain": [
       "<Figure size 640x480 with 1 Axes>"
      ]
     },
     "metadata": {},
     "output_type": "display_data"
    }
   ],
   "source": [
    "plot.scatter(framedData['Sponsorship Interactions (Ad Clicks)'], framedData['Time on Live 360 (mins)'])\n",
    "plot.xlabel(\"Sponsorship Interactions\")\n",
    "plot.ylabel(\"Time on Live 360 in mins\")"
   ]
  },
  {
   "cell_type": "code",
   "execution_count": 216,
   "id": "c6e8af3e-e721-4ee0-810d-fcf9472dc9fd",
   "metadata": {
    "tags": []
   },
   "outputs": [],
   "source": [
    "# There seems to be little correlation between Sponsorship Interactions and Time on Live 360"
   ]
  },
  {
   "cell_type": "code",
   "execution_count": 218,
   "id": "d7016d0b-4ce9-44a3-b7e1-3ffb36426ecf",
   "metadata": {
    "tags": []
   },
   "outputs": [
    {
     "data": {
      "text/plain": [
       "Text(0, 0.5, 'Predictive Accuracy %')"
      ]
     },
     "execution_count": 218,
     "metadata": {},
     "output_type": "execute_result"
    },
    {
     "data": {
      "image/png": "[encoded data removed]",
      "text/plain": [
       "<Figure size 640x480 with 1 Axes>"
      ]
     },
     "metadata": {},
     "output_type": "display_data"
    }
   ],
   "source": [
    "plot.scatter(framedData['Sponsorship Interactions (Ad Clicks)'], framedData['Predictive Accuracy (%)'])\n",
    "plot.xlabel(\"Sponsorship Interactions\")\n",
    "plot.ylabel(\"Predictive Accuracy %\")"
   ]
  },
  {
   "cell_type": "code",
   "execution_count": 220,
   "id": "e56a25f0-055c-4070-b6e1-925175b09ef4",
   "metadata": {
    "tags": []
   },
   "outputs": [],
   "source": [
    "# There seems to be little correlation between Sponsorship Interactions and Predictive Accuracy %"
   ]
  },
  {
   "cell_type": "code",
   "execution_count": 219,
   "id": "d4e9f5c5-6a7d-4a44-873e-30215871d61d",
   "metadata": {
    "tags": []
   },
   "outputs": [
    {
     "data": {
      "text/plain": [
       "Text(0, 0.5, 'Fan Challenges Completed')"
      ]
     },
     "execution_count": 219,
     "metadata": {},
     "output_type": "execute_result"
    },
    {
     "data": {
      "image/png": "[encoded data removed]",
      "text/plain": [
       "<Figure size 640x480 with 1 Axes>"
      ]
     },
     "metadata": {},
     "output_type": "display_data"
    }
   ],
   "source": [
    "plot.scatter(framedData['Sponsorship Interactions (Ad Clicks)'], framedData['Fan Challenges Completed'])\n",
    "plot.xlabel(\"Sponsorship Interactions\")\n",
    "plot.ylabel(\"Fan Challenges Completed\")"
   ]
  },
  {
   "cell_type": "code",
   "execution_count": 221,
   "id": "ea50c190-24df-4d1d-a1e2-5a99eb18025d",
   "metadata": {
    "tags": []
   },
   "outputs": [],
   "source": [
    "# There seems to be little correlation between Sponsorship Interactions and Fan Challenges Completed"
   ]
  },
  {
   "cell_type": "code",
   "execution_count": null,
   "id": "91ff6693-feb8-4122-9df6-0c143d9de1cd",
   "metadata": {},
   "outputs": [],
   "source": [
    "# Overall Insights\n",
    "\n",
    "# I feel as if there is little correlation among the VeloCityX users sponsorship interaction/merchandise purchasing and their use of different features of the platform.\n",
    "# All of the scatter plots showed little-to-no correlation between the sponsorship interaction/merchandise purchasing and the use of the features.\n",
    "# I may have missed the broader picture by being able to compare all user feature attributes at once but I am unaware of how to do that\n",
    "\n",
    "# New Fan Challenge\n",
    "\n",
    "# I think a fun new fan challenge could be to have the users guess the fastest finishing time.\n",
    "# This challenge could incentivize users to interact with sponsorships and/or buy merch of the racer/team that they think will finish with the fastest time\n",
    "# As for engagement, that seems to have little correlation between those who interact with sponsors and purchase merchandise, so it is likely that this new feature will not correlate with increased monetization"
   ]
  }
 ],
 "metadata": {
  "kernelspec": {
   "display_name": "Python 3 (ipykernel)",
   "language": "python",
   "name": "python3"
  },
  "language_info": {
   "codemirror_mode": {
    "name": "ipython",
    "version": 3
   },
   "file_extension": ".py",
   "mimetype": "text/x-python",
   "name": "python",
   "nbconvert_exporter": "python",
   "pygments_lexer": "ipython3",
   "version": "3.11.5"
  }
 },
 "nbformat": 4,
 "nbformat_minor": 5
}
